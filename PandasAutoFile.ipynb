{
 "cells": [
  {
   "cell_type": "code",
   "execution_count": 26,
   "id": "09eac8e4",
   "metadata": {},
   "outputs": [
    {
     "name": "stdout",
     "output_type": "stream",
     "text": [
      "             make    price\n",
      "74  mercedes-benz  45400.0\n",
      "make\n",
      "alfa-romero       3\n",
      "audi              7\n",
      "bmw               8\n",
      "chevrolet         3\n",
      "dodge             9\n",
      "honda            13\n",
      "isuzu             4\n",
      "jaguar            3\n",
      "mazda            17\n",
      "mercedes-benz     8\n",
      "mercury           1\n",
      "mitsubishi       13\n",
      "nissan           18\n",
      "peugot           11\n",
      "plymouth          7\n",
      "porsche           5\n",
      "renault           2\n",
      "saab              6\n",
      "subaru           12\n",
      "toyota           32\n",
      "volkswagen       12\n",
      "volvo            11\n",
      "dtype: int64\n",
      "make\n",
      "alfa-romero       3\n",
      "audi              7\n",
      "bmw               8\n",
      "chevrolet         3\n",
      "dodge             9\n",
      "honda            13\n",
      "isuzu             4\n",
      "jaguar            3\n",
      "mazda            17\n",
      "mercedes-benz     8\n",
      "mercury           1\n",
      "mitsubishi       13\n",
      "nissan           18\n",
      "peugot           11\n",
      "plymouth          7\n",
      "porsche           5\n",
      "renault           2\n",
      "saab              6\n",
      "subaru           12\n",
      "toyota           32\n",
      "volkswagen       12\n",
      "volvo            11\n",
      "dtype: int64\n"
     ]
    }
   ],
   "source": [
    "import pandas as pd\n",
    "import numpy as np\n",
    "import os\n",
    " \n",
    "auto_file = pd.read_csv(r'F:\\DataScience\\Sample File\\Auto.csv')\n",
    "auto_file[:10]\n",
    "highPrice = auto_file[['make','price']][auto_file.price == auto_file['price'].max()]\n",
    "print(highPrice)\n",
    "print(auto_file.groupby(['make']).size())\n",
    "print(auto_file.groupby(['make']).size())"
   ]
  },
  {
   "cell_type": "code",
   "execution_count": 29,
   "id": "5a25d2c2",
   "metadata": {},
   "outputs": [
    {
     "name": "stdout",
     "output_type": "stream",
     "text": [
      "make\n",
      "alfa-romero      16500.0\n",
      "audi             23875.0\n",
      "bmw              41315.0\n",
      "chevrolet         6575.0\n",
      "dodge            12964.0\n",
      "honda            12945.0\n",
      "isuzu            11048.0\n",
      "jaguar           36000.0\n",
      "mazda            18344.0\n",
      "mercedes-benz    45400.0\n",
      "mercury          16503.0\n",
      "mitsubishi       14869.0\n",
      "nissan           19699.0\n",
      "peugot           18150.0\n",
      "plymouth         12764.0\n",
      "porsche          37028.0\n",
      "renault           9895.0\n",
      "saab             18620.0\n",
      "subaru           11694.0\n",
      "toyota           17669.0\n",
      "volkswagen       13845.0\n",
      "volvo            22625.0\n",
      "Name: price, dtype: float64\n"
     ]
    }
   ],
   "source": [
    "highest_price=auto_file.groupby('make')['price'].max()\n",
    "print(highest_price)"
   ]
  },
  {
   "cell_type": "code",
   "execution_count": 30,
   "id": "29694703",
   "metadata": {},
   "outputs": [
    {
     "data": {
      "text/plain": [
       "make\n",
       "mercedes-benz    45400.0\n",
       "bmw              41315.0\n",
       "porsche          37028.0\n",
       "jaguar           36000.0\n",
       "audi             23875.0\n",
       "volvo            22625.0\n",
       "nissan           19699.0\n",
       "saab             18620.0\n",
       "mazda            18344.0\n",
       "peugot           18150.0\n",
       "toyota           17669.0\n",
       "mercury          16503.0\n",
       "alfa-romero      16500.0\n",
       "mitsubishi       14869.0\n",
       "volkswagen       13845.0\n",
       "dodge            12964.0\n",
       "honda            12945.0\n",
       "plymouth         12764.0\n",
       "subaru           11694.0\n",
       "isuzu            11048.0\n",
       "renault           9895.0\n",
       "chevrolet         6575.0\n",
       "Name: price, dtype: float64"
      ]
     },
     "execution_count": 30,
     "metadata": {},
     "output_type": "execute_result"
    }
   ],
   "source": [
    "highest_price.sort_values(ascending=False)"
   ]
  },
  {
   "cell_type": "code",
   "execution_count": 33,
   "id": "e537e58a",
   "metadata": {},
   "outputs": [
    {
     "name": "stdout",
     "output_type": "stream",
     "text": [
      "                                    city_mpg highway_mpg\n",
      "                                        mean        mean\n",
      "make        fuel_type body_style                        \n",
      "alfa-romero gas       convertible  21.000000   27.000000\n",
      "                      hatchback    19.000000   26.000000\n",
      "audi        gas       hatchback    16.000000   22.000000\n",
      "                      sedan        19.400000   24.400000\n",
      "                      wagon        19.000000   25.000000\n",
      "...                                      ...         ...\n",
      "volkswagen  gas       sedan        25.200000   31.600000\n",
      "                      wagon        25.000000   31.000000\n",
      "volvo       diesel    sedan        26.000000   27.000000\n",
      "            gas       sedan        20.428571   25.571429\n",
      "                      wagon        21.333333   26.000000\n",
      "\n",
      "[66 rows x 2 columns]\n"
     ]
    }
   ],
   "source": [
    " auto_grp_make = auto_file.groupby(['make','fuel_type','body_style']).agg({'city_mpg': ['mean'], 'highway_mpg' : ['mean']})\n",
    "print(auto_grp_make)"
   ]
  },
  {
   "cell_type": "code",
   "execution_count": null,
   "id": "93dff94d",
   "metadata": {},
   "outputs": [],
   "source": []
  }
 ],
 "metadata": {
  "kernelspec": {
   "display_name": "Python 3 (ipykernel)",
   "language": "python",
   "name": "python3"
  },
  "language_info": {
   "codemirror_mode": {
    "name": "ipython",
    "version": 3
   },
   "file_extension": ".py",
   "mimetype": "text/x-python",
   "name": "python",
   "nbconvert_exporter": "python",
   "pygments_lexer": "ipython3",
   "version": "3.9.7"
  }
 },
 "nbformat": 4,
 "nbformat_minor": 5
}
