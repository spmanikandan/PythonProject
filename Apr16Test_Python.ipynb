{
 "cells": [
  {
   "cell_type": "code",
   "execution_count": 2,
   "id": "e34ec02b",
   "metadata": {},
   "outputs": [],
   "source": [
    "def checkDuplicateInLst(listOflstElements): \n",
    "    setlstElementents = set()\n",
    "    for lstElement in listOflstElements:\n",
    "        if lstElement in setlstElementents:\n",
    "            return True\n",
    "        else:\n",
    "            setlstElementents.add(lstElement)         \n",
    "    return False "
   ]
  },
  {
   "cell_type": "code",
   "execution_count": 3,
   "id": "a11c2a63",
   "metadata": {},
   "outputs": [
    {
     "name": "stdout",
     "output_type": "stream",
     "text": [
      "No duplicates found in list\n"
     ]
    }
   ],
   "source": [
    "listOflstElements = [2, 4, 6, 7,8 , 9, 10]\n",
    "result = checkDuplicateInLst(listOflstElements)\n",
    "if result:\n",
    "    print('Yes, list contains duplicates')\n",
    "else:\n",
    "    print('No duplicates found in list')  \n",
    "    \n",
    "  "
   ]
  },
  {
   "cell_type": "code",
   "execution_count": 5,
   "id": "9e1f8b6e",
   "metadata": {},
   "outputs": [
    {
     "name": "stdout",
     "output_type": "stream",
     "text": [
      "Yes, list contains duplicates\n"
     ]
    }
   ],
   "source": [
    " duplicateLstElements = [2, 4, 6, 7, 6, 8 , 9, 10]\n",
    "result = checkDuplicateInLst(duplicateLstElements)\n",
    "if result:\n",
    "    print('Yes, list contains duplicates')\n",
    "else:\n",
    "    print('No duplicates found in list')  "
   ]
  },
  {
   "cell_type": "code",
   "execution_count": null,
   "id": "e562672e",
   "metadata": {},
   "outputs": [],
   "source": []
  },
  {
   "cell_type": "code",
   "execution_count": 23,
   "id": "752d0252",
   "metadata": {},
   "outputs": [
    {
     "name": "stdout",
     "output_type": "stream",
     "text": [
      "Average for the given number = 6.571428571428571\n"
     ]
    }
   ],
   "source": [
    "def findAvrgForGivenNumber(listOflstElements):\n",
    "     total = 0 \n",
    "     count = 0\n",
    "     for lstElement in listOflstElements:\n",
    "         count = count+1;\n",
    "         total = total + lstElement\n",
    "     return total/count;\n",
    "    \n",
    "listOflstElements = [2, 4, 6, 7, 8 , 9, 10]\n",
    "result = findAvrgForGivenNumber(listOflstElements)\n",
    "print( 'Average for the given number =' , result)\n"
   ]
  },
  {
   "cell_type": "code",
   "execution_count": null,
   "id": "1902caab",
   "metadata": {},
   "outputs": [],
   "source": []
  },
  {
   "cell_type": "code",
   "execution_count": 33,
   "id": "03983090",
   "metadata": {},
   "outputs": [
    {
     "name": "stdout",
     "output_type": "stream",
     "text": [
      " Given number divisible by 5 and 7 \n",
      " Given number <not> divisible by 5 and 7 \n"
     ]
    }
   ],
   "source": [
    " def findGivenNumberMultOf57(element):\n",
    "     if element % 5 == 0  and element % 7 == 0 :\n",
    "        print(' Given number divisible by 5 and 7 ')\n",
    "     else :\n",
    "        print(' Given number <not> divisible by 5 and 7 ')\n",
    "\n",
    "     \n",
    "    \n",
    " findGivenNumberMultOf57(35)\n",
    " findGivenNumberMultOf57(45)\n"
   ]
  },
  {
   "cell_type": "code",
   "execution_count": null,
   "id": "619463df",
   "metadata": {},
   "outputs": [],
   "source": []
  },
  {
   "cell_type": "code",
   "execution_count": 38,
   "id": "4c63d906",
   "metadata": {},
   "outputs": [
    {
     "name": "stdout",
     "output_type": "stream",
     "text": [
      "Please Enter any Number: 235\n",
      "\n",
      " reversePlace of entered number is =  532\n"
     ]
    }
   ],
   "source": [
    "\n",
    "givenNumber = int(input(\"Please Enter any Number: \"))    \n",
    "reversePlace = 0    \n",
    "while(givenNumber > 0):    \n",
    "    ReminderDigit = givenNumber %10    \n",
    "    reversePlace = (reversePlace *10) + ReminderDigit    \n",
    "    givenNumber = givenNumber //10    \n",
    "     \n",
    "print(\"\\n reversePlace of entered number is = \" , reversePlace) "
   ]
  },
  {
   "cell_type": "code",
   "execution_count": null,
   "id": "fd334e17",
   "metadata": {},
   "outputs": [],
   "source": []
  },
  {
   "cell_type": "code",
   "execution_count": 94,
   "id": "789c5ff5",
   "metadata": {},
   "outputs": [
    {
     "name": "stdout",
     "output_type": "stream",
     "text": [
      "300\n"
     ]
    }
   ],
   "source": [
    "def outer_fun(arg1, arg2):\n",
    "    var2 = 5\n",
    "    def inner_fun():\n",
    "        var1 = arg1  + arg2\n",
    "        #print(var1)\n",
    "        return var1;\n",
    "\n",
    "    return var2 * inner_fun()\n",
    "        \n",
    "result = outer_fun(20, 40)\n",
    "print(result)\n"
   ]
  },
  {
   "cell_type": "code",
   "execution_count": null,
   "id": "fd09ed6b",
   "metadata": {},
   "outputs": [],
   "source": []
  },
  {
   "cell_type": "code",
   "execution_count": 100,
   "id": "e8379102",
   "metadata": {},
   "outputs": [
    {
     "name": "stdout",
     "output_type": "stream",
     "text": [
      " Given year is a Leap Year  2020\n",
      " Given year is a Leap Year  2000\n",
      " Given year is not a Leap Year   1998\n"
     ]
    }
   ],
   "source": [
    "def findGivenYearLeapYearOrNot(yr):\n",
    "     if ((yr % 400 == 0  or yr % 100 != 0) and (yr % 4 == 0)):\n",
    "        print(' Given year is a Leap Year ', yr)\n",
    "     else :\n",
    "        print(' Given year is not a Leap Year  ', yr)\n",
    "     \n",
    "    \n",
    "findGivenYearLeapYearOrNot(2020)\n",
    "findGivenYearLeapYearOrNot(2000)\n",
    "findGivenYearLeapYearOrNot(1998)"
   ]
  },
  {
   "cell_type": "code",
   "execution_count": null,
   "id": "e44da588",
   "metadata": {},
   "outputs": [],
   "source": []
  },
  {
   "cell_type": "code",
   "execution_count": null,
   "id": "a769098a",
   "metadata": {},
   "outputs": [],
   "source": []
  },
  {
   "cell_type": "code",
   "execution_count": null,
   "id": "3709e47a",
   "metadata": {},
   "outputs": [],
   "source": []
  },
  {
   "cell_type": "code",
   "execution_count": null,
   "id": "890e6761",
   "metadata": {},
   "outputs": [],
   "source": []
  },
  {
   "cell_type": "code",
   "execution_count": null,
   "id": "6a353099",
   "metadata": {},
   "outputs": [],
   "source": []
  }
 ],
 "metadata": {
  "kernelspec": {
   "display_name": "Python 3 (ipykernel)",
   "language": "python",
   "name": "python3"
  },
  "language_info": {
   "codemirror_mode": {
    "name": "ipython",
    "version": 3
   },
   "file_extension": ".py",
   "mimetype": "text/x-python",
   "name": "python",
   "nbconvert_exporter": "python",
   "pygments_lexer": "ipython3",
   "version": "3.9.7"
  }
 },
 "nbformat": 4,
 "nbformat_minor": 5
}
